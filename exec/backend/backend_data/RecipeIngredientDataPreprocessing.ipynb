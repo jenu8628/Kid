{
 "cells": [
  {
   "cell_type": "code",
   "execution_count": 1,
   "metadata": {},
   "outputs": [],
   "source": [
    "import sys\n",
    "import numpy as np\n",
    "import pandas as pd\n",
    "import re\n",
    "import konlpy"
   ]
  },
  {
   "cell_type": "code",
   "execution_count": 2,
   "metadata": {},
   "outputs": [],
   "source": [
    "str1 = '고구마죽 고구마 100g(2/3개), 설탕 2g(1/3작은술), 찹쌀가루 3g(2/3작은술),물 200ml(1컵), 잣 8g(8알)'\n",
    "str2 = '채소준비 애호박 30g(1/6개), 표고버섯 20g(2개), 당근 5g(3×2×1cm) 누룽지 죽 누룽지 70g(1/3컵), 순두부 100g(1/4모), 달걀 50g(1개),참기름 3g(2/3작은술), 소금 약간, 참깨 약간, 흰 후추 약간'\n",
    "str3 = '초밥 밥 210g(1공기) 배합초 식초 20g(1⅓큰술), 설탕 10g(2작은술), 소금 약간 오색지라시 달걀노른자 40g(달걀2개), 표고버섯 10g(1장), 새송이버섯 20g(3개), 새우 25g(4마리), 홍피망 10g(1/8개), 청피망 10g(1/8개), 양파 5g(5×1cm), 대두유 20g(1⅓큰술), 참기름 10g(2작은술), 식용유 약간'"
   ]
  },
  {
   "cell_type": "code",
   "execution_count": 3,
   "metadata": {},
   "outputs": [
    {
     "data": {
      "text/plain": [
       "'고구마죽 고구마 100g(2/3개), 설탕 2g(1/3작은술), 찹쌀가루 3g(2/3작은술),물 200ml(1컵), 잣 8g(8알)'"
      ]
     },
     "execution_count": 3,
     "metadata": {},
     "output_type": "execute_result"
    }
   ],
   "source": [
    "str1"
   ]
  },
  {
   "cell_type": "code",
   "execution_count": 4,
   "metadata": {},
   "outputs": [],
   "source": [
    "def returnNewStr(inputStr):\n",
    "    temp = inputStr.split(',')\n",
    "    new_str = ''\n",
    "    for i in range(0, len(temp)):\n",
    "        str_temp = temp[i]\n",
    "        sp_temp = str_temp.split(' ')\n",
    "        for idx in range(0, len(sp_temp)):\n",
    "            if not (any(chr.isdigit() for chr in sp_temp[idx])): # 숫자 미포함 \n",
    "                if sp_temp[idx] is not '':\n",
    "                    new_str += sp_temp[idx] + '/'\n",
    "    new_str = new_str[0:-1]\n",
    "    return new_str"
   ]
  },
  {
   "cell_type": "code",
   "execution_count": 5,
   "metadata": {},
   "outputs": [],
   "source": [
    "new_str1 = returnNewStr(str1)\n",
    "new_str2 = returnNewStr(str2)\n",
    "new_str3 = returnNewStr(str3)"
   ]
  },
  {
   "cell_type": "code",
   "execution_count": 6,
   "metadata": {},
   "outputs": [],
   "source": [
    "recipe_data = np.array([\n",
    "    # 레시피\n",
    "    new_str1, new_str2, new_str3\n",
    "])"
   ]
  },
  {
   "cell_type": "code",
   "execution_count": 9,
   "metadata": {},
   "outputs": [
    {
     "name": "stdout",
     "output_type": "stream",
     "text": [
      "['고구마', '죽', '고구마', '설탕', '찹쌀', '가루', '물', '잣']\n",
      "['채소', '준비', '애호박', '표고버섯', '당근', '누룽지', '죽', '누룽지', '순두부', '달걀', '참기름', '소금', '약간', '참깨', '약간', '후추', '약간']\n",
      "['초밥', '밥', '배합', '초', '식초', '설탕', '소금', '약간', '오색', '지라시', '달걀노른자', '표고버섯', '새', '송이버섯', '새우', '홍', '피망', '청', '피망', '양파', '두유', '참기름']\n"
     ]
    }
   ],
   "source": [
    "#텍스트 정제 (형태소 추출)\n",
    "recipe_list = []\n",
    "for i, document in enumerate(recipe_data):\n",
    "    okt = konlpy.tag.Okt()\n",
    "    clean_words = []\n",
    "    for word in okt.pos(document, stem=True): # 어간 추출\n",
    "        # 조사, 어미, 구두점, 형용사, 동사 제외\n",
    "        if word[1] not in ['Josa', 'Eomi', 'Punctuation', 'Adjective', 'Verb']: \n",
    "            clean_words.append(word[0])\n",
    "    print(clean_words) # ['고구마', '죽', '고구마', '설탕', '찹쌀', '가루', '물', '잣']\n",
    "    recipe_list.append(clean_words)\n",
    "    document = ' '.join(clean_words)\n",
    "#     print(document) # 고구마 죽 고구마 설탕 찹쌀 가루 물 잣\n",
    "    recipe_data[i] = document\n",
    "# print(recipe_data) "
   ]
  },
  {
   "cell_type": "code",
   "execution_count": 10,
   "metadata": {},
   "outputs": [
    {
     "data": {
      "text/plain": [
       "[['고구마', '죽', '고구마', '설탕', '찹쌀', '가루', '물', '잣'],\n",
       " ['채소',\n",
       "  '준비',\n",
       "  '애호박',\n",
       "  '표고버섯',\n",
       "  '당근',\n",
       "  '누룽지',\n",
       "  '죽',\n",
       "  '누룽지',\n",
       "  '순두부',\n",
       "  '달걀',\n",
       "  '참기름',\n",
       "  '소금',\n",
       "  '약간',\n",
       "  '참깨',\n",
       "  '약간',\n",
       "  '후추',\n",
       "  '약간'],\n",
       " ['초밥',\n",
       "  '밥',\n",
       "  '배합',\n",
       "  '초',\n",
       "  '식초',\n",
       "  '설탕',\n",
       "  '소금',\n",
       "  '약간',\n",
       "  '오색',\n",
       "  '지라시',\n",
       "  '달걀노른자',\n",
       "  '표고버섯',\n",
       "  '새',\n",
       "  '송이버섯',\n",
       "  '새우',\n",
       "  '홍',\n",
       "  '피망',\n",
       "  '청',\n",
       "  '피망',\n",
       "  '양파',\n",
       "  '두유',\n",
       "  '참기름']]"
      ]
     },
     "execution_count": 10,
     "metadata": {},
     "output_type": "execute_result"
    }
   ],
   "source": [
    "recipe_list"
   ]
  }
 ],
 "metadata": {
  "kernelspec": {
   "display_name": "Python 3",
   "language": "python",
   "name": "python3"
  },
  "language_info": {
   "codemirror_mode": {
    "name": "ipython",
    "version": 3
   },
   "file_extension": ".py",
   "mimetype": "text/x-python",
   "name": "python",
   "nbconvert_exporter": "python",
   "pygments_lexer": "ipython3",
   "version": "3.7.0"
  }
 },
 "nbformat": 4,
 "nbformat_minor": 4
}
